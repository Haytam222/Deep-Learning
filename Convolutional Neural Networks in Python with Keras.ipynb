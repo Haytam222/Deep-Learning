{
  "nbformat": 4,
  "nbformat_minor": 0,
  "metadata": {
    "colab": {
      "name": "Convolutional Neural Networks in Python with Keras.ipynb",
      "provenance": [],
      "collapsed_sections": [],
      "mount_file_id": "1NrUSL9378K6zy6U0vlVKqov4pnUesYn3",
      "authorship_tag": "ABX9TyN4zve2SndOtl+nYG1mknQc",
      "include_colab_link": true
    },
    "kernelspec": {
      "name": "python3",
      "display_name": "Python 3"
    }
  },
  "cells": [
    {
      "cell_type": "markdown",
      "metadata": {
        "id": "view-in-github",
        "colab_type": "text"
      },
      "source": [
        "<a href=\"https://colab.research.google.com/github/Haytam222/Deep-Learning/blob/master/Convolutional%20Neural%20Networks%20in%20Python%20with%20Keras.ipynb\" target=\"_parent\"><img src=\"https://colab.research.google.com/assets/colab-badge.svg\" alt=\"Open In Colab\"/></a>"
      ]
    },
    {
      "cell_type": "markdown",
      "metadata": {
        "id": "apQIBZCBEoHn",
        "colab_type": "text"
      },
      "source": [
        "# ***Load the Data***\n"
      ]
    },
    {
      "cell_type": "markdown",
      "metadata": {
        "id": "baCPciI0DHSl",
        "colab_type": "text"
      },
      "source": [
        "***Keras*** comes with a library ***called datasets***, which you can use to load datasets out of the box : you download the data from the server and speeds up the process since you no longer have to download the data to your computer. The **train** and *test* images along with the labels are loaded and stored in variables ***train_X, train_Y, test_X, test_Y,*** respectively."
      ]
    },
    {
      "cell_type": "code",
      "metadata": {
        "id": "E6X7fWzC--dX",
        "colab_type": "code",
        "colab": {
          "base_uri": "https://localhost:8080/",
          "height": 170
        },
        "outputId": "e77fc6e4-1902-4c81-9db0-470a6e49fddf"
      },
      "source": [
        "from keras.datasets import fashion_mnist \n",
        "(train_X,train_Y), (test_X,test_Y) = fashion_mnist.load_data()"
      ],
      "execution_count": 1,
      "outputs": [
        {
          "output_type": "stream",
          "text": [
            "Using TensorFlow backend.\n"
          ],
          "name": "stderr"
        },
        {
          "output_type": "stream",
          "text": [
            "Downloading data from http://fashion-mnist.s3-website.eu-central-1.amazonaws.com/train-labels-idx1-ubyte.gz\n",
            "32768/29515 [=================================] - 0s 3us/step\n",
            "Downloading data from http://fashion-mnist.s3-website.eu-central-1.amazonaws.com/train-images-idx3-ubyte.gz\n",
            "26427392/26421880 [==============================] - 2s 0us/step\n",
            "Downloading data from http://fashion-mnist.s3-website.eu-central-1.amazonaws.com/t10k-labels-idx1-ubyte.gz\n",
            "8192/5148 [===============================================] - 0s 0us/step\n",
            "Downloading data from http://fashion-mnist.s3-website.eu-central-1.amazonaws.com/t10k-images-idx3-ubyte.gz\n",
            "4423680/4422102 [==============================] - 1s 0us/step\n"
          ],
          "name": "stdout"
        }
      ]
    },
    {
      "cell_type": "markdown",
      "metadata": {
        "id": "LIO0rOU5FZoP",
        "colab_type": "text"
      },
      "source": [
        "**Great !** That was pretty simple, wasn't it **?**\n",
        "\n",
        "> **Y**ou have probably done this a million times by now, but it's always an essential step to get started. Now you're completely set to start analyzing, processing and modeling your data!\n",
        "\n",
        "\n"
      ]
    },
    {
      "cell_type": "markdown",
      "metadata": {
        "id": "AE4vw069E3qt",
        "colab_type": "text"
      },
      "source": [
        "# ***Analyze the Data***"
      ]
    },
    {
      "cell_type": "markdown",
      "metadata": {
        "id": "0Q18MZpjF9if",
        "colab_type": "text"
      },
      "source": [
        "**L**et's now analyze how images in the dataset look like. Even though you know the dimension of the images by now, it's still worth the effort to analyze it programmatically : you might have to rescale the image pixels and resize the images."
      ]
    },
    {
      "cell_type": "code",
      "metadata": {
        "id": "JYyaRq5-_JNe",
        "colab_type": "code",
        "colab": {
          "base_uri": "https://localhost:8080/",
          "height": 51
        },
        "outputId": "70c41afd-6fc8-490a-e24f-c7a680bc7510"
      },
      "source": [
        "import numpy as np \n",
        "from keras.utils import to_categorical \n",
        "import matplotlib.pyplot as plt \n",
        "%matplotlib inline \n",
        "\n",
        "print('Training data shape : ', train_X.shape, train_Y.shape) \n",
        "print('Testing data shape : ', test_X.shape, test_Y.shape)"
      ],
      "execution_count": 2,
      "outputs": [
        {
          "output_type": "stream",
          "text": [
            "Training data shape :  (60000, 28, 28) (60000,)\n",
            "Testing data shape :  (10000, 28, 28) (10000,)\n"
          ],
          "name": "stdout"
        }
      ]
    },
    {
      "cell_type": "markdown",
      "metadata": {
        "id": "vcYz3nw6GxNt",
        "colab_type": "text"
      },
      "source": [
        "**F**rom the above output, you can see that the training data has a shape of **(60000,28,28)** since there are **60,000** training samples each of **(28,28)** dimension. Similarly, the test data has a shape of **(10000,28,28)** since there are **10,000** *testing samples*."
      ]
    },
    {
      "cell_type": "code",
      "metadata": {
        "id": "8YI8f0jT_UHF",
        "colab_type": "code",
        "colab": {
          "base_uri": "https://localhost:8080/",
          "height": 51
        },
        "outputId": "b9654fde-85b9-4686-9100-ae9d68d4500b"
      },
      "source": [
        "# Find the unique numbers from the train labels \n",
        "\n",
        "classes = np.unique(train_Y) \n",
        "nClasses = len(classes) \n",
        "\n",
        "print('Total number of outputs : ', nClasses) \n",
        "print('Output classes : ', classes)"
      ],
      "execution_count": 3,
      "outputs": [
        {
          "output_type": "stream",
          "text": [
            "Total number of outputs :  10\n",
            "Output classes :  [0 1 2 3 4 5 6 7 8 9]\n"
          ],
          "name": "stdout"
        }
      ]
    },
    {
      "cell_type": "markdown",
      "metadata": {
        "id": "rt-QR6OKKgxW",
        "colab_type": "text"
      },
      "source": [
        "**T**here's also a total of ten output classes that range from **0 to 9.** \n",
        "\n",
        "\n"
      ]
    },
    {
      "cell_type": "markdown",
      "metadata": {
        "id": "74sOPrrzKl_e",
        "colab_type": "text"
      },
      "source": [
        "**A**lso, don't forget to take a look at what the images in your dataset :"
      ]
    },
    {
      "cell_type": "code",
      "metadata": {
        "id": "2mhoMrV6_XL9",
        "colab_type": "code",
        "colab": {
          "base_uri": "https://localhost:8080/",
          "height": 208
        },
        "outputId": "05cee58a-039e-4bd9-cdc7-a3cb1ee7021b"
      },
      "source": [
        "plt.figure(figsize=[5,5])\n",
        "\n",
        "# Display the first image in training data \n",
        "\n",
        "plt.subplot(121) \n",
        "plt.imshow(train_X[0,:,:], cmap='gray') \n",
        "plt.title(\"Ground Truth : {}\".format(train_Y[0])) \n",
        "\n",
        "# Display the first image in testing data plt.subplot(122)\n",
        "\n",
        "plt.imshow(test_X[0,:,:], cmap='gray') \n",
        "plt.title(\"Ground Truth : {}\".format(test_Y[0]))\n"
      ],
      "execution_count": 4,
      "outputs": [
        {
          "output_type": "execute_result",
          "data": {
            "text/plain": [
              "Text(0.5, 1.0, 'Ground Truth : 9')"
            ]
          },
          "metadata": {
            "tags": []
          },
          "execution_count": 4
        },
        {
          "output_type": "display_data",
          "data": {
            "image/png": "[encoded data removed]",
            "text/plain": [
              "<Figure size 360x360 with 1 Axes>"
            ]
          },
          "metadata": {
            "tags": [],
            "needs_background": "light"
          }
        }
      ]
    },
    {
      "cell_type": "markdown",
      "metadata": {
        "id": "7TJASzq0K32Q",
        "colab_type": "text"
      },
      "source": [
        "**T**he output of above two plots looks like an ankle boot, and **this class is assigned a class label of 9**. Similarly, other fashion products will have different labels, but similar products will have same labels. This means that all the 7,000 ankle boot images will have a class label of 9."
      ]
    },
    {
      "cell_type": "markdown",
      "metadata": {
        "id": "BqdFbc0NLDOF",
        "colab_type": "text"
      },
      "source": [
        "#***Data Preprocessing***"
      ]
    },
    {
      "cell_type": "markdown",
      "metadata": {
        "id": "uPqDdSODLSrf",
        "colab_type": "text"
      },
      "source": [
        "**A**s you could see in the above plot, **the images are grayscale images have pixel values that range from 0 to 255**. Also, these images have a dimension of (28,28). As a result, you'll need to preprocess the data before you feed it into the model."
      ]
    },
    {
      "cell_type": "markdown",
      "metadata": {
        "id": "FnjR4_PjLU3q",
        "colab_type": "text"
      },
      "source": [
        "\n",
        "\n",
        "*   **A**s a first step, convert each **(28,28)** image of the train and test set into a matrix of size **(28,28,1)** which is fed into the network.\n",
        " \n",
        "\n"
      ]
    },
    {
      "cell_type": "code",
      "metadata": {
        "id": "cIDF0yx4_bHD",
        "colab_type": "code",
        "colab": {
          "base_uri": "https://localhost:8080/",
          "height": 34
        },
        "outputId": "3cb6d543-4e24-4ef3-b564-1265a9634307"
      },
      "source": [
        "train_X = train_X.reshape(-1, 28,28, 1) \n",
        "test_X = test_X.reshape(-1, 28,28, 1)\n",
        "\n",
        "print(train_X.shape, test_X.shape)"
      ],
      "execution_count": 5,
      "outputs": [
        {
          "output_type": "stream",
          "text": [
            "(60000, 28, 28, 1) (10000, 28, 28, 1)\n"
          ],
          "name": "stdout"
        }
      ]
    },
    {
      "cell_type": "markdown",
      "metadata": {
        "id": "qTj5LnlOMUE5",
        "colab_type": "text"
      },
      "source": [
        "\n",
        "\n",
        "*   **T**he data right now is in an int8 format, so before you feed it into the network you need to convert its type to float32, and you also have to rescale the pixel values in range 0 - 1 inclusive. ***So let's do that!***\n",
        "\n",
        "\n"
      ]
    },
    {
      "cell_type": "code",
      "metadata": {
        "id": "SZ3s-0Br_eBM",
        "colab_type": "code",
        "colab": {}
      },
      "source": [
        "train_X = train_X.astype('float32') \n",
        "test_X = test_X.astype('float32') \n",
        "train_X = train_X / 255. \n",
        "test_X = test_X / 255."
      ],
      "execution_count": 6,
      "outputs": []
    },
    {
      "cell_type": "markdown",
      "metadata": {
        "id": "ghz7NGW_Mh2u",
        "colab_type": "text"
      },
      "source": [
        "\n",
        "\n",
        "*   **N**ow you need to convert the class labels into a **one-hot encoding vector**. In **one-hot encoding**, you convert **the categorical data into a vector of numbers**. The reason why you convert the categorical data in one hot encoding is that machine learning algorithms cannot work with categorical data directly. You generate one boolean column for each category or class. Only one of these columns could take on the value 1 for each sample. Hence, the term one-hot encoding. For your problem statement, the one hot encoding will be a row vector, and for each image, it will have a dimension of **(1,10)** . The important thing to note here is that the vector consists of all zeros except for the class that it represents, and for that, it is 1. *For example, the ankle boot image that you plotted above has a label of 9, so for all the ankle boot images, the one hot encoding vector would be **[ 0 0 0 0 0 0 0 0 1 0 ]** . So let's convert the training and testing labels into one-hot encoding vectors:*\n",
        "\n",
        "\n"
      ]
    },
    {
      "cell_type": "code",
      "metadata": {
        "id": "UawF7OPs_hNE",
        "colab_type": "code",
        "colab": {
          "base_uri": "https://localhost:8080/",
          "height": 51
        },
        "outputId": "002f4a8e-24d6-42f2-f4a9-2794af1cd29f"
      },
      "source": [
        "# Change the labels from categorical to one-hot encoding \n",
        "\n",
        "train_Y_one_hot = to_categorical(train_Y) \n",
        "test_Y_one_hot = to_categorical(test_Y)\n",
        "\n",
        "# Display the change for category label using one-hot encoding \n",
        "\n",
        "print('Original label:', train_Y[0]) \n",
        "print('After conversion to one-hot:', train_Y_one_hot[0])"
      ],
      "execution_count": 7,
      "outputs": [
        {
          "output_type": "stream",
          "text": [
            "Original label: 9\n",
            "After conversion to one-hot: [0. 0. 0. 0. 0. 0. 0. 0. 0. 1.]\n"
          ],
          "name": "stdout"
        }
      ]
    },
    {
      "cell_type": "markdown",
      "metadata": {
        "id": "ikiUiII7PFBL",
        "colab_type": "text"
      },
      "source": [
        "**That's pretty clear, right ?** Note that you can also print the ***train_Y_one_hot***, which will display a matrix of size (60000,10) in which each row depicts *one-hot encoding of an image*."
      ]
    },
    {
      "cell_type": "markdown",
      "metadata": {
        "id": "eM4FhBAaPjfs",
        "colab_type": "text"
      },
      "source": [
        "\n",
        "\n",
        "*   **T**his last step is a crucial one . In machine learning or any data specific task, you should partition the data correctly. For the model to generalize well, you split the training data into two parts, one designed for training and another one for validation. In this case, you will train the model on **80 %** of the training data and validate it on **20 %** of the remaining training data. This will also help to reduce overfitting since you will be validating the model on the data it would not have seen in training phase, which will help in boosting the test performance.\n",
        "  \n",
        "\n"
      ]
    },
    {
      "cell_type": "code",
      "metadata": {
        "id": "1_CceaoL_kMe",
        "colab_type": "code",
        "colab": {}
      },
      "source": [
        "from sklearn.model_selection import train_test_split \n",
        "\n",
        "train_X,valid_X,train_label,valid_label = train_test_split(train_X, train_Y_one_hot, test_size=0.2, random_state=13)"
      ],
      "execution_count": 8,
      "outputs": []
    },
    {
      "cell_type": "markdown",
      "metadata": {
        "id": "xY039NMdQDhn",
        "colab_type": "text"
      },
      "source": [
        "**F**or one last time let's check the shape of **training and validation set**."
      ]
    },
    {
      "cell_type": "code",
      "metadata": {
        "id": "fEvNsWFgQL8w",
        "colab_type": "code",
        "colab": {
          "base_uri": "https://localhost:8080/",
          "height": 34
        },
        "outputId": "45d1f09f-9d3a-4cb2-d0dd-77e06b54f251"
      },
      "source": [
        "train_X.shape,valid_X.shape,train_label.shape,valid_label.shape"
      ],
      "execution_count": 9,
      "outputs": [
        {
          "output_type": "execute_result",
          "data": {
            "text/plain": [
              "((48000, 28, 28, 1), (12000, 28, 28, 1), (48000, 10), (12000, 10))"
            ]
          },
          "metadata": {
            "tags": []
          },
          "execution_count": 9
        }
      ]
    },
    {
      "cell_type": "markdown",
      "metadata": {
        "id": "XRYz_A_SQWy_",
        "colab_type": "text"
      },
      "source": [
        "#***The Network***\n"
      ]
    },
    {
      "cell_type": "markdown",
      "metadata": {
        "id": "tps6soULQcqI",
        "colab_type": "text"
      },
      "source": [
        "**T**he images are of size **(28,28)** . You convert the image matrix to an array, *rescale it between 0 and 1*, reshape it so that it's of size **(28,28,1)** , and feed this as an input to the network.\n",
        "\n"
      ]
    },
    {
      "cell_type": "markdown",
      "metadata": {
        "id": "JXLvWfUbQi4-",
        "colab_type": "text"
      },
      "source": [
        "**You'll use three convolutional layers:**\n",
        "\n",
        "\n",
        "*   **T**he first layer will have **(32,(3,3))** *filters*.\n",
        "*   **T**he second layer will have **(64,(3,3))** *filters* .\n",
        "*   **T**he third layer will have **(128,(3,3))** *filters*.\n",
        "\n",
        "**I**n addition, there are three max-pooling layers each of size **(2,2)**.\n",
        "\n"
      ]
    },
    {
      "cell_type": "markdown",
      "metadata": {
        "id": "Tg0q9OBQakvG",
        "colab_type": "text"
      },
      "source": [
        "#***Model the Data***\n",
        "\n",
        "**F**irst, let's import all the necessary modules required to train the model."
      ]
    },
    {
      "cell_type": "code",
      "metadata": {
        "id": "k4KEOfpFazfb",
        "colab_type": "code",
        "colab": {}
      },
      "source": [
        "from keras.models import Sequential\n",
        "from keras.models import Input,Model \n",
        "from keras.layers import Dense, Dropout, Flatten \n",
        "from keras.layers import Conv2D, MaxPooling2D \n",
        "from keras.layers.normalization import BatchNormalization \n",
        "from keras.layers.advanced_activations import LeakyReLU"
      ],
      "execution_count": 10,
      "outputs": []
    },
    {
      "cell_type": "markdown",
      "metadata": {
        "id": "CUrYltVMa3R-",
        "colab_type": "text"
      },
      "source": [
        "**Y**ou will use a batch size of 64 using a higher batch size of 128 or 256 is also preferable it all depends on the memory. It contributes massively to determining the learning parameters and affects the prediction accuracy. You will train the network for **20 epochs**."
      ]
    },
    {
      "cell_type": "code",
      "metadata": {
        "id": "WDFvtMf4_xwE",
        "colab_type": "code",
        "colab": {}
      },
      "source": [
        "batch_size = 64 \n",
        "epochs = 20 \n",
        "num_classes = 10"
      ],
      "execution_count": 11,
      "outputs": []
    },
    {
      "cell_type": "markdown",
      "metadata": {
        "id": "2VKVp3jobAk3",
        "colab_type": "text"
      },
      "source": [
        "#***Neural Network Architecture***"
      ]
    },
    {
      "cell_type": "markdown",
      "metadata": {
        "id": "8xg_XbXibGMw",
        "colab_type": "text"
      },
      "source": [
        "**I**n Keras, you can just stack up layers by adding the desired layer one by one. That's exactly what you'll do here: you'll first add a first ***convolutional layer with Conv2D()***. Note that you use this function because you're working with images! Next, you add the ***Leaky ReLU activation function*** which helps the network learn ***non-linear decision boundaries***. Since you have ten different classes, you'll need a non-linear decision boundary that could separate these ten classes which are not linearly separable. More specifically, you add ***Leaky ReLUs*** because they attempt to fix the problem of dying ***Rectified Linear Units (ReLUs)***. The **ReLU** activation function is used a lot in neural network architectures and more specifically in convolutional networks, where it has proven to be more effective than the widely used logistic sigmoid function. As of 2017, this activation function is the most popular one for deep neural networks. The ReLU function allows the activation to be thresholded at zero. However, during the training, ReLU units can \"die\". This can happen when a large gradient flows through a ReLU neuron: it can cause the weights to update in such a way that the neuron will never activate on any data point again. If this happens, then the gradient flowing through the unit will forever be zero from that point on. Leaky ReLUs attempt to solve this: the function will not be zero but will instead have a small negative slope. Next, you'll add the **max-pooling layer with MaxPooling2D()** and so on. The last layer is a Dense layer that has a softmax activation function with 10 units, which is needed for this multi-class classification problem."
      ]
    },
    {
      "cell_type": "code",
      "metadata": {
        "id": "7DBHSTly_2Dl",
        "colab_type": "code",
        "colab": {}
      },
      "source": [
        "fashion_model = Sequential()\n",
        "\n",
        "fashion_model.add(Conv2D(32, kernel_size=(3, 3),activation='linear',input_shape=(28,28,1),padding='same'))\n",
        "fashion_model.add(LeakyReLU(alpha=0.1))\n",
        "fashion_model.add(MaxPooling2D((2, 2),padding='same'))\n",
        "\n",
        "fashion_model.add(Conv2D(64, (3, 3), activation='linear',padding='same'))\n",
        "fashion_model.add(LeakyReLU(alpha=0.1))\n",
        "fashion_model.add(MaxPooling2D(pool_size=(2, 2),padding='same'))\n",
        "\n",
        "fashion_model.add(Conv2D(128, (3, 3), activation='linear',padding='same'))\n",
        "fashion_model.add(LeakyReLU(alpha=0.1))\n",
        "fashion_model.add(MaxPooling2D(pool_size=(2, 2),padding='same'))\n",
        "\n",
        "fashion_model.add(Flatten())\n",
        "fashion_model.add(Dense(128, activation='linear'))\n",
        "fashion_model.add(LeakyReLU(alpha=0.1))\n",
        "fashion_model.add(Dense(num_classes, activation='softmax'))"
      ],
      "execution_count": 12,
      "outputs": []
    },
    {
      "cell_type": "markdown",
      "metadata": {
        "id": "5bbkVZVcbxN-",
        "colab_type": "text"
      },
      "source": [
        "# ***Compile the Model***\n",
        "\n",
        "**A**fter the model is created, you compile it using the **Adam optimizer**, one of the most popular **optimization algorithms**. "
      ]
    },
    {
      "cell_type": "markdown",
      "metadata": {
        "id": "YcDgsujVcJtL",
        "colab_type": "text"
      },
      "source": [
        "**A**dditionally, you specify the loss type which is ***categorical cross entropy*** which is used for ***multi-class classification,*** you can also use binary cross-entropy as the loss function."
      ]
    },
    {
      "cell_type": "markdown",
      "metadata": {
        "id": "bCAaH-qMcYWp",
        "colab_type": "text"
      },
      "source": [
        "**L**astly, you specify the **metrics as accuracy** which you want to analyze while the model is training."
      ]
    },
    {
      "cell_type": "code",
      "metadata": {
        "id": "Cq9Ya49u_3w8",
        "colab_type": "code",
        "colab": {}
      },
      "source": [
        "fashion_model.compile(loss=\"categorical_crossentropy\", optimizer=\"adam\", metrics=[\"accuracy\"])"
      ],
      "execution_count": 13,
      "outputs": []
    },
    {
      "cell_type": "markdown",
      "metadata": {
        "id": "Wi8tUzJCcimT",
        "colab_type": "text"
      },
      "source": [
        "***L***et's visualize the layers that you created in the above step by using the summary function. This will show some parameters ***(weights and biases)*** in each layer and also the total parameters in your ***model***."
      ]
    },
    {
      "cell_type": "code",
      "metadata": {
        "id": "Br5HW423sZxq",
        "colab_type": "code",
        "colab": {
          "base_uri": "https://localhost:8080/",
          "height": 595
        },
        "outputId": "ef3c45cc-2718-4c58-8659-30e2bdd657d9"
      },
      "source": [
        "fashion_model.summary()"
      ],
      "execution_count": 14,
      "outputs": [
        {
          "output_type": "stream",
          "text": [
            "Model: \"sequential_1\"\n",
            "_________________________________________________________________\n",
            "Layer (type)                 Output Shape              Param #   \n",
            "=================================================================\n",
            "conv2d_1 (Conv2D)            (None, 28, 28, 32)        320       \n",
            "_________________________________________________________________\n",
            "leaky_re_lu_1 (LeakyReLU)    (None, 28, 28, 32)        0         \n",
            "_________________________________________________________________\n",
            "max_pooling2d_1 (MaxPooling2 (None, 14, 14, 32)        0         \n",
            "_________________________________________________________________\n",
            "conv2d_2 (Conv2D)            (None, 14, 14, 64)        18496     \n",
            "_________________________________________________________________\n",
            "leaky_re_lu_2 (LeakyReLU)    (None, 14, 14, 64)        0         \n",
            "_________________________________________________________________\n",
            "max_pooling2d_2 (MaxPooling2 (None, 7, 7, 64)          0         \n",
            "_________________________________________________________________\n",
            "conv2d_3 (Conv2D)            (None, 7, 7, 128)         73856     \n",
            "_________________________________________________________________\n",
            "leaky_re_lu_3 (LeakyReLU)    (None, 7, 7, 128)         0         \n",
            "_________________________________________________________________\n",
            "max_pooling2d_3 (MaxPooling2 (None, 4, 4, 128)         0         \n",
            "_________________________________________________________________\n",
            "flatten_1 (Flatten)          (None, 2048)              0         \n",
            "_________________________________________________________________\n",
            "dense_1 (Dense)              (None, 128)               262272    \n",
            "_________________________________________________________________\n",
            "leaky_re_lu_4 (LeakyReLU)    (None, 128)               0         \n",
            "_________________________________________________________________\n",
            "dense_2 (Dense)              (None, 10)                1290      \n",
            "=================================================================\n",
            "Total params: 356,234\n",
            "Trainable params: 356,234\n",
            "Non-trainable params: 0\n",
            "_________________________________________________________________\n"
          ],
          "name": "stdout"
        }
      ]
    },
    {
      "cell_type": "markdown",
      "metadata": {
        "id": "1YpiHk-qtDJv",
        "colab_type": "text"
      },
      "source": [
        "#***Train the Model***"
      ]
    },
    {
      "cell_type": "markdown",
      "metadata": {
        "id": "jIDXtNKetHhv",
        "colab_type": "text"
      },
      "source": [
        "***I***t's finally time to train the model with ***Keras fit() function*** ! The model trains for ***20 epochs***. ***The fit()*** function will return a history object , By storying the result of this function in ***fashion_train***, you can use it later to plot the **accuracy** and *loss* function plots between *training and validation* which will help you to analyze your model's performance visually."
      ]
    },
    {
      "cell_type": "code",
      "metadata": {
        "id": "nmXrx7CuCJqW",
        "colab_type": "code",
        "colab": {
          "base_uri": "https://localhost:8080/",
          "height": 714
        },
        "outputId": "2299929c-d1c5-440a-8b09-5b46f9434c59"
      },
      "source": [
        "fashion_train = fashion_model.fit(train_X, train_label, batch_size=batch_size,epochs=epochs,verbose=1,validation_data=(valid_X, valid_label))"
      ],
      "execution_count": 15,
      "outputs": [
        {
          "output_type": "stream",
          "text": [
            "Train on 48000 samples, validate on 12000 samples\n",
            "Epoch 1/20\n",
            "48000/48000 [==============================] - 85s 2ms/step - loss: 0.4666 - accuracy: 0.8303 - val_loss: 0.3328 - val_accuracy: 0.8825\n",
            "Epoch 2/20\n",
            "48000/48000 [==============================] - 84s 2ms/step - loss: 0.2867 - accuracy: 0.8947 - val_loss: 0.2887 - val_accuracy: 0.8955\n",
            "Epoch 3/20\n",
            "48000/48000 [==============================] - 84s 2ms/step - loss: 0.2387 - accuracy: 0.9119 - val_loss: 0.2387 - val_accuracy: 0.9130\n",
            "Epoch 4/20\n",
            "48000/48000 [==============================] - 85s 2ms/step - loss: 0.2072 - accuracy: 0.9228 - val_loss: 0.2384 - val_accuracy: 0.9139\n",
            "Epoch 5/20\n",
            "48000/48000 [==============================] - 85s 2ms/step - loss: 0.1813 - accuracy: 0.9327 - val_loss: 0.2335 - val_accuracy: 0.9176\n",
            "Epoch 6/20\n",
            "48000/48000 [==============================] - 85s 2ms/step - loss: 0.1589 - accuracy: 0.9404 - val_loss: 0.2158 - val_accuracy: 0.9225\n",
            "Epoch 7/20\n",
            "48000/48000 [==============================] - 85s 2ms/step - loss: 0.1360 - accuracy: 0.9492 - val_loss: 0.2296 - val_accuracy: 0.9207\n",
            "Epoch 8/20\n",
            "48000/48000 [==============================] - 85s 2ms/step - loss: 0.1216 - accuracy: 0.9541 - val_loss: 0.2295 - val_accuracy: 0.9263\n",
            "Epoch 9/20\n",
            "48000/48000 [==============================] - 85s 2ms/step - loss: 0.0997 - accuracy: 0.9627 - val_loss: 0.2524 - val_accuracy: 0.9172\n",
            "Epoch 10/20\n",
            "48000/48000 [==============================] - 85s 2ms/step - loss: 0.0856 - accuracy: 0.9677 - val_loss: 0.2755 - val_accuracy: 0.9238\n",
            "Epoch 11/20\n",
            "48000/48000 [==============================] - 85s 2ms/step - loss: 0.0755 - accuracy: 0.9719 - val_loss: 0.3033 - val_accuracy: 0.9197\n",
            "Epoch 12/20\n",
            "48000/48000 [==============================] - 84s 2ms/step - loss: 0.0625 - accuracy: 0.9774 - val_loss: 0.3019 - val_accuracy: 0.9202\n",
            "Epoch 13/20\n",
            "48000/48000 [==============================] - 85s 2ms/step - loss: 0.0540 - accuracy: 0.9800 - val_loss: 0.3150 - val_accuracy: 0.9172\n",
            "Epoch 14/20\n",
            "48000/48000 [==============================] - 85s 2ms/step - loss: 0.0489 - accuracy: 0.9822 - val_loss: 0.3672 - val_accuracy: 0.9202\n",
            "Epoch 15/20\n",
            "48000/48000 [==============================] - 85s 2ms/step - loss: 0.0440 - accuracy: 0.9839 - val_loss: 0.3659 - val_accuracy: 0.9162\n",
            "Epoch 16/20\n",
            "48000/48000 [==============================] - 85s 2ms/step - loss: 0.0376 - accuracy: 0.9865 - val_loss: 0.3836 - val_accuracy: 0.9153\n",
            "Epoch 17/20\n",
            "48000/48000 [==============================] - 85s 2ms/step - loss: 0.0365 - accuracy: 0.9864 - val_loss: 0.3956 - val_accuracy: 0.9226\n",
            "Epoch 18/20\n",
            "48000/48000 [==============================] - 85s 2ms/step - loss: 0.0349 - accuracy: 0.9873 - val_loss: 0.4354 - val_accuracy: 0.9209\n",
            "Epoch 19/20\n",
            "48000/48000 [==============================] - 85s 2ms/step - loss: 0.0280 - accuracy: 0.9895 - val_loss: 0.4340 - val_accuracy: 0.9168\n",
            "Epoch 20/20\n",
            "48000/48000 [==============================] - 85s 2ms/step - loss: 0.0304 - accuracy: 0.9887 - val_loss: 0.4770 - val_accuracy: 0.9207\n"
          ],
          "name": "stdout"
        }
      ]
    },
    {
      "cell_type": "markdown",
      "metadata": {
        "id": "2h44sPb9t9W2",
        "colab_type": "text"
      },
      "source": [
        "***Finally !*** You trained the model on ***fashion-MNIST*** for ***20 epochs***, and by observing the training accuracy and loss, you can say that the model did a good job since after **20 epochs** the *training accuracy* is **99%** and the training loss is quite low."
      ]
    },
    {
      "cell_type": "markdown",
      "metadata": {
        "id": "EI4w8xRQvNnD",
        "colab_type": "text"
      },
      "source": [
        "**H**owever, it looks like the model is overfitting, as the validation *loss is 0*.4396 and the validation accuracy is **92%** . Overfitting gives an intuition that the network has memorized the training data very well but is not guaranteed to work on unseen data, and that is why there is a difference in the training and validation accuracy."
      ]
    },
    {
      "cell_type": "markdown",
      "metadata": {
        "id": "l8k6hCyYvkRW",
        "colab_type": "text"
      },
      "source": [
        "**Y**ou probably need to handle this. In next sections, you'll learn how you can make your model perform much better by adding a Dropout layer into the network and keeping all the other layers unchanged."
      ]
    },
    {
      "cell_type": "markdown",
      "metadata": {
        "id": "JPG5AXOavp5R",
        "colab_type": "text"
      },
      "source": [
        "**B**ut first, let's evaluate the performance of your model on the test set before you come on to a conclusion."
      ]
    },
    {
      "cell_type": "markdown",
      "metadata": {
        "id": "mc2ogNoYvw4t",
        "colab_type": "text"
      },
      "source": [
        "#***Model Evaluation on the Test Set***"
      ]
    },
    {
      "cell_type": "code",
      "metadata": {
        "id": "t7JjC5OtB3PM",
        "colab_type": "code",
        "colab": {
          "base_uri": "https://localhost:8080/",
          "height": 68
        },
        "outputId": "5d815500-39b0-49af-e965-cd6a97e63e20"
      },
      "source": [
        "test_eval = fashion_model.evaluate(test_X, test_Y_one_hot, verbose=1) \n",
        "\n",
        "print('Test loss:', test_eval[0]) \n",
        "print('Test accuracy:', test_eval[1])"
      ],
      "execution_count": 16,
      "outputs": [
        {
          "output_type": "stream",
          "text": [
            "10000/10000 [==============================] - 5s 537us/step\n",
            "Test loss: 0.49063668894581497\n",
            "Test accuracy: 0.9138000011444092\n"
          ],
          "name": "stdout"
        }
      ]
    },
    {
      "cell_type": "markdown",
      "metadata": {
        "id": "pOe1nV0_0hbe",
        "colab_type": "text"
      },
      "source": [
        "**T**he test accuracy looks impressive. ***Are these results really all that good ?*** , Let's put your model evaluation into perspective and plot the accuracy and loss plots between training and validation data:"
      ]
    },
    {
      "cell_type": "code",
      "metadata": {
        "id": "B2gxiZw1kY9O",
        "colab_type": "code",
        "colab": {
          "base_uri": "https://localhost:8080/",
          "height": 545
        },
        "outputId": "5f8a2e54-2616-4999-b091-d09db1b4195b"
      },
      "source": [
        "accuracy = fashion_train.history['accuracy'] \n",
        "val_accuracy = fashion_train.history['val_accuracy'] \n",
        "loss = fashion_train.history['loss'] \n",
        "val_loss = fashion_train.history['val_loss'] \n",
        "epochs = range(len(accuracy)) \n",
        "plt.plot(epochs, accuracy, 'bo', label='Training accuracy') \n",
        "plt.plot(epochs, val_accuracy, 'b', label='Validation accuracy') \n",
        "plt.title('Training and validation accuracy') \n",
        "plt.legend() \n",
        "plt.figure() \n",
        "plt.plot(epochs, loss, 'bo', label='Training loss') \n",
        "plt.plot(epochs, val_loss, 'b', label='Validation loss')\n",
        "plt.title('Training and validation loss') \n",
        "plt.legend() \n",
        "plt.show()"
      ],
      "execution_count": 17,
      "outputs": [
        {
          "output_type": "display_data",
          "data": {
            "image/png": "[encoded data removed]",
            "text/plain": [
              "<Figure size 432x288 with 1 Axes>"
            ]
          },
          "metadata": {
            "tags": [],
            "needs_background": "light"
          }
        },
        {
          "output_type": "display_data",
          "data": {
            "image/png": "[encoded data removed]",
            "text/plain": [
              "<Figure size 432x288 with 1 Axes>"
            ]
          },
          "metadata": {
            "tags": [],
            "needs_background": "light"
          }
        }
      ]
    },
    {
      "cell_type": "markdown",
      "metadata": {
        "id": "bT7WNF0z1Lui",
        "colab_type": "text"
      },
      "source": [
        "**F**rom the above two plots, you can see that the validation accuracy almost became stagnant after 4-5 epochs and rarely increased at certain epochs. In the beginning, the validation accuracy was linearly increasing with loss, but then it did not increase much. The validation loss shows that this is the sign of overfitting, similar to validation accuracy it linearly decreased but after 4-5 epochs, it started to increase. This means that the model tried to memorize the data and succeeded."
      ]
    },
    {
      "cell_type": "markdown",
      "metadata": {
        "id": "j7ThBfZemHfL",
        "colab_type": "text"
      },
      "source": [
        " With this in mind, it's time to introduce some dropout into our model and see if it helps in **reducing overfitting**."
      ]
    },
    {
      "cell_type": "markdown",
      "metadata": {
        "id": "CFOuXJTb2Bdv",
        "colab_type": "text"
      },
      "source": [
        "#***Adding Dropout into the Network***"
      ]
    },
    {
      "cell_type": "markdown",
      "metadata": {
        "id": "Ne53JfL42JFv",
        "colab_type": "text"
      },
      "source": [
        "You can add a dropout layer to overcome the problem of overfitting to some extent. Dropout randomly turns off a fraction of neurons during the training process, reducing the dependency on the training set by some amount. How many fractions of neurons you want to turn off is decided by a hyperparameter, which can be tuned accordingly. This way, turning off some neurons will not allow the network to memorize the training data since not all the neurons will be active at the same time and the inactive neurons will not be able to learn anything."
      ]
    },
    {
      "cell_type": "markdown",
      "metadata": {
        "id": "JvwtvFjp6dKn",
        "colab_type": "text"
      },
      "source": [
        "**S**o let's create, compile and train the network again but this time with dropout. And run it for 20 epochs with a batch size of 64."
      ]
    },
    {
      "cell_type": "code",
      "metadata": {
        "id": "YoaCsQCNvesk",
        "colab_type": "code",
        "colab": {
          "base_uri": "https://localhost:8080/",
          "height": 731
        },
        "outputId": "31000eb9-7f1d-43cf-94d6-46960cb64b36"
      },
      "source": [
        "batch_size = 64 \n",
        "epochs = 20 \n",
        "num_classes = 10 \n",
        "fashion_model = Sequential() \n",
        "fashion_model.add(Conv2D(32, kernel_size=(3, 3),activation='linear',padding='same',input_shape=(28,28,1))) \n",
        "fashion_model.add(LeakyReLU(alpha=0.1)) \n",
        "fashion_model.add(MaxPooling2D((2, 2),padding='same')) \n",
        "fashion_model.add(Dropout(0.25)) \n",
        "\n",
        "fashion_model.add(Conv2D(64, (3, 3), activation='linear',padding='same')) \n",
        "fashion_model.add(LeakyReLU(alpha=0.1)) \n",
        "fashion_model.add(MaxPooling2D(pool_size=(2, 2),padding='same')) \n",
        "fashion_model.add(Dropout(0.25))\n",
        "\n",
        "fashion_model.add(Conv2D(128, (3, 3), activation='linear',padding='same')) \n",
        "fashion_model.add(LeakyReLU(alpha=0.1)) \n",
        "fashion_model.add(MaxPooling2D(pool_size=(2, 2),padding='same')) \n",
        "fashion_model.add(Dropout(0.4)) \n",
        "\n",
        "fashion_model.add(Flatten()) \n",
        "fashion_model.add(Dense(128, activation='linear')) \n",
        "fashion_model.add(LeakyReLU(alpha=0.1)) \n",
        "fashion_model.add(Dropout(0.3)) \n",
        "fashion_model.add(Dense(num_classes, activation='softmax')) \n",
        "\n",
        "\n",
        "fashion_model.summary()"
      ],
      "execution_count": 18,
      "outputs": [
        {
          "output_type": "stream",
          "text": [
            "Model: \"sequential_2\"\n",
            "_________________________________________________________________\n",
            "Layer (type)                 Output Shape              Param #   \n",
            "=================================================================\n",
            "conv2d_4 (Conv2D)            (None, 28, 28, 32)        320       \n",
            "_________________________________________________________________\n",
            "leaky_re_lu_5 (LeakyReLU)    (None, 28, 28, 32)        0         \n",
            "_________________________________________________________________\n",
            "max_pooling2d_4 (MaxPooling2 (None, 14, 14, 32)        0         \n",
            "_________________________________________________________________\n",
            "dropout_1 (Dropout)          (None, 14, 14, 32)        0         \n",
            "_________________________________________________________________\n",
            "conv2d_5 (Conv2D)            (None, 14, 14, 64)        18496     \n",
            "_________________________________________________________________\n",
            "leaky_re_lu_6 (LeakyReLU)    (None, 14, 14, 64)        0         \n",
            "_________________________________________________________________\n",
            "max_pooling2d_5 (MaxPooling2 (None, 7, 7, 64)          0         \n",
            "_________________________________________________________________\n",
            "dropout_2 (Dropout)          (None, 7, 7, 64)          0         \n",
            "_________________________________________________________________\n",
            "conv2d_6 (Conv2D)            (None, 7, 7, 128)         73856     \n",
            "_________________________________________________________________\n",
            "leaky_re_lu_7 (LeakyReLU)    (None, 7, 7, 128)         0         \n",
            "_________________________________________________________________\n",
            "max_pooling2d_6 (MaxPooling2 (None, 4, 4, 128)         0         \n",
            "_________________________________________________________________\n",
            "dropout_3 (Dropout)          (None, 4, 4, 128)         0         \n",
            "_________________________________________________________________\n",
            "flatten_2 (Flatten)          (None, 2048)              0         \n",
            "_________________________________________________________________\n",
            "dense_3 (Dense)              (None, 128)               262272    \n",
            "_________________________________________________________________\n",
            "leaky_re_lu_8 (LeakyReLU)    (None, 128)               0         \n",
            "_________________________________________________________________\n",
            "dropout_4 (Dropout)          (None, 128)               0         \n",
            "_________________________________________________________________\n",
            "dense_4 (Dense)              (None, 10)                1290      \n",
            "=================================================================\n",
            "Total params: 356,234\n",
            "Trainable params: 356,234\n",
            "Non-trainable params: 0\n",
            "_________________________________________________________________\n"
          ],
          "name": "stdout"
        }
      ]
    },
    {
      "cell_type": "code",
      "metadata": {
        "id": "rly51HLiwlsL",
        "colab_type": "code",
        "colab": {
          "base_uri": "https://localhost:8080/",
          "height": 714
        },
        "outputId": "39b28bf7-7430-43cd-a675-06617ff880bd"
      },
      "source": [
        "\n",
        "fashion_model.compile(loss=\"categorical_crossentropy\", optimizer=\"adam\", metrics=[\"accuracy\"])\n",
        "\n",
        "fashion_train_dropout = fashion_model.fit(train_X, train_label, batch_size=batch_size,epochs=epochs,verbose=1,validation_data=(valid_X, valid_label))"
      ],
      "execution_count": 19,
      "outputs": [
        {
          "output_type": "stream",
          "text": [
            "Train on 48000 samples, validate on 12000 samples\n",
            "Epoch 1/20\n",
            "48000/48000 [==============================] - 91s 2ms/step - loss: 0.5953 - accuracy: 0.7779 - val_loss: 0.3688 - val_accuracy: 0.8672\n",
            "Epoch 2/20\n",
            "48000/48000 [==============================] - 91s 2ms/step - loss: 0.3749 - accuracy: 0.8627 - val_loss: 0.3153 - val_accuracy: 0.8871\n",
            "Epoch 3/20\n",
            "48000/48000 [==============================] - 91s 2ms/step - loss: 0.3273 - accuracy: 0.8791 - val_loss: 0.2728 - val_accuracy: 0.8999\n",
            "Epoch 4/20\n",
            "48000/48000 [==============================] - 91s 2ms/step - loss: 0.3014 - accuracy: 0.8885 - val_loss: 0.2698 - val_accuracy: 0.8994\n",
            "Epoch 5/20\n",
            "48000/48000 [==============================] - 91s 2ms/step - loss: 0.2834 - accuracy: 0.8942 - val_loss: 0.2557 - val_accuracy: 0.9078\n",
            "Epoch 6/20\n",
            "48000/48000 [==============================] - 90s 2ms/step - loss: 0.2704 - accuracy: 0.8994 - val_loss: 0.2426 - val_accuracy: 0.9108\n",
            "Epoch 7/20\n",
            "48000/48000 [==============================] - 90s 2ms/step - loss: 0.2584 - accuracy: 0.9031 - val_loss: 0.2303 - val_accuracy: 0.9131\n",
            "Epoch 8/20\n",
            "48000/48000 [==============================] - 91s 2ms/step - loss: 0.2467 - accuracy: 0.9067 - val_loss: 0.2254 - val_accuracy: 0.9163\n",
            "Epoch 9/20\n",
            "48000/48000 [==============================] - 91s 2ms/step - loss: 0.2396 - accuracy: 0.9106 - val_loss: 0.2239 - val_accuracy: 0.9181\n",
            "Epoch 10/20\n",
            "48000/48000 [==============================] - 91s 2ms/step - loss: 0.2362 - accuracy: 0.9105 - val_loss: 0.2423 - val_accuracy: 0.9098\n",
            "Epoch 11/20\n",
            "48000/48000 [==============================] - 90s 2ms/step - loss: 0.2275 - accuracy: 0.9146 - val_loss: 0.2283 - val_accuracy: 0.9146\n",
            "Epoch 12/20\n",
            "48000/48000 [==============================] - 91s 2ms/step - loss: 0.2244 - accuracy: 0.9151 - val_loss: 0.2175 - val_accuracy: 0.9201\n",
            "Epoch 13/20\n",
            "48000/48000 [==============================] - 91s 2ms/step - loss: 0.2200 - accuracy: 0.9170 - val_loss: 0.2130 - val_accuracy: 0.9219\n",
            "Epoch 14/20\n",
            "48000/48000 [==============================] - 91s 2ms/step - loss: 0.2146 - accuracy: 0.9195 - val_loss: 0.2196 - val_accuracy: 0.9216\n",
            "Epoch 15/20\n",
            "48000/48000 [==============================] - 90s 2ms/step - loss: 0.2127 - accuracy: 0.9197 - val_loss: 0.2065 - val_accuracy: 0.9244\n",
            "Epoch 16/20\n",
            "48000/48000 [==============================] - 91s 2ms/step - loss: 0.2095 - accuracy: 0.9205 - val_loss: 0.2201 - val_accuracy: 0.9225\n",
            "Epoch 17/20\n",
            "48000/48000 [==============================] - 91s 2ms/step - loss: 0.2038 - accuracy: 0.9230 - val_loss: 0.2200 - val_accuracy: 0.9233\n",
            "Epoch 18/20\n",
            "48000/48000 [==============================] - 92s 2ms/step - loss: 0.2000 - accuracy: 0.9233 - val_loss: 0.2177 - val_accuracy: 0.9229\n",
            "Epoch 19/20\n",
            "48000/48000 [==============================] - 91s 2ms/step - loss: 0.2002 - accuracy: 0.9242 - val_loss: 0.2059 - val_accuracy: 0.9277\n",
            "Epoch 20/20\n",
            "48000/48000 [==============================] - 91s 2ms/step - loss: 0.1940 - accuracy: 0.9246 - val_loss: 0.2109 - val_accuracy: 0.9271\n"
          ],
          "name": "stdout"
        }
      ]
    },
    {
      "cell_type": "markdown",
      "metadata": {
        "id": "Y2M2rN3P26T4",
        "colab_type": "text"
      },
      "source": [
        "**L**et's save the model so that you can directly load it and not have to train it again for **20 epochs** . **This way** , you can load the model later on if you need it and modify the architecture ; Alternatively, you can start the training process on this **saved model** . It is always a good idea to save the model and even the model's weights! because it saves you time. Note that you can also save the model after every epoch so that, if some issue occurs that stops the training at an epoch, you will not have to start the training from the beginning."
      ]
    },
    {
      "cell_type": "code",
      "metadata": {
        "id": "DMtc4GM76hSx",
        "colab_type": "code",
        "colab": {}
      },
      "source": [
        "fashion_model.save(\"fashion_model_dropout.h5py\")"
      ],
      "execution_count": 20,
      "outputs": []
    },
    {
      "cell_type": "markdown",
      "metadata": {
        "id": "Mr9QV1Ph6pxY",
        "colab_type": "text"
      },
      "source": [
        "# ***Model Evaluation on the Test Set***"
      ]
    },
    {
      "cell_type": "markdown",
      "metadata": {
        "id": "vE5hTKLa7FNJ",
        "colab_type": "text"
      },
      "source": [
        "**F**inally, let's also evaluate your new model and see how it performs!"
      ]
    },
    {
      "cell_type": "code",
      "metadata": {
        "id": "dmtYBGVg7XsJ",
        "colab_type": "code",
        "colab": {
          "base_uri": "https://localhost:8080/",
          "height": 34
        },
        "outputId": "a2aaa943-92ab-4dc3-c026-c5d21fa7ec21"
      },
      "source": [
        "test_eval = fashion_model.evaluate(test_X, test_Y_one_hot, verbose=1)"
      ],
      "execution_count": 21,
      "outputs": [
        {
          "output_type": "stream",
          "text": [
            "10000/10000 [==============================] - 6s 553us/step\n"
          ],
          "name": "stdout"
        }
      ]
    },
    {
      "cell_type": "code",
      "metadata": {
        "id": "dpBw9Rb27bzM",
        "colab_type": "code",
        "colab": {
          "base_uri": "https://localhost:8080/",
          "height": 51
        },
        "outputId": "31238fa7-f575-4614-eac3-c0e8d9507fde"
      },
      "source": [
        "print('Test loss:', test_eval[0]) \n",
        "print('Test accuracy:', test_eval[1])"
      ],
      "execution_count": 22,
      "outputs": [
        {
          "output_type": "stream",
          "text": [
            "Test loss: 0.21905140578746796\n",
            "Test accuracy: 0.9204999804496765\n"
          ],
          "name": "stdout"
        }
      ]
    },
    {
      "cell_type": "markdown",
      "metadata": {
        "id": "Qr1QMjw07hva",
        "colab_type": "text"
      },
      "source": [
        "**Wow!** Looks like adding Dropout in our model worked, even though the test accuracy did not improve significantly but the test loss decreased compared to the previous results."
      ]
    },
    {
      "cell_type": "markdown",
      "metadata": {
        "id": "MhD4nf0m7k8p",
        "colab_type": "text"
      },
      "source": [
        "**Now**, let's plot the accuracy and loss plots between training and validation data for the one last time."
      ]
    },
    {
      "cell_type": "code",
      "metadata": {
        "id": "8RrjmCKL70Dp",
        "colab_type": "code",
        "colab": {
          "base_uri": "https://localhost:8080/",
          "height": 545
        },
        "outputId": "bb683a60-43fb-4374-a6c7-5ea18d4af107"
      },
      "source": [
        "accuracy = fashion_train_dropout.history['accuracy'] \n",
        "val_accuracy = fashion_train_dropout.history['val_accuracy'] \n",
        "loss = fashion_train_dropout.history['loss'] \n",
        "val_loss = fashion_train_dropout.history['val_loss']\n",
        "epochs = range(len(accuracy)) \n",
        "plt.plot(epochs, accuracy, 'bo', label='Training accuracy') \n",
        "plt.plot(epochs, val_accuracy, 'b', label='Validation accuracy') \n",
        "plt.title('Training and validation accuracy') \n",
        "plt.legend() \n",
        "plt.figure() \n",
        "\n",
        "plt.plot(epochs, loss, 'bo', label='Training loss') \n",
        "plt.plot(epochs, val_loss, 'b', label='Validation loss') \n",
        "plt.title('Training and validation loss') \n",
        "plt.legend() \n",
        "plt.show()"
      ],
      "execution_count": 23,
      "outputs": [
        {
          "output_type": "display_data",
          "data": {
            "image/png": "[encoded data removed]",
            "text/plain": [
              "<Figure size 432x288 with 1 Axes>"
            ]
          },
          "metadata": {
            "tags": [],
            "needs_background": "light"
          }
        },
        {
          "output_type": "display_data",
          "data": {
            "image/png": "[encoded data removed]",
            "text/plain": [
              "<Figure size 432x288 with 1 Axes>"
            ]
          },
          "metadata": {
            "tags": [],
            "needs_background": "light"
          }
        }
      ]
    },
    {
      "cell_type": "markdown",
      "metadata": {
        "id": "Eh81DNxt8L7Y",
        "colab_type": "text"
      },
      "source": [
        "**Finally**, you can see that the validation loss and validation accuracy both are in sync with the training loss and training accuracy. Even though the validation loss and accuracy line are not linear, but it shows that your model is not overfitting : the validation loss is decreasing and not increasing, and there is not much gap between training and validation accuracy."
      ]
    },
    {
      "cell_type": "markdown",
      "metadata": {
        "id": "FYniS8iT8Sm5",
        "colab_type": "text"
      },
      "source": [
        "**Th**erefore, you can say that your model's generalization capability became much better since the loss on both test set and validation set was only slightly more compared to the training loss."
      ]
    },
    {
      "cell_type": "markdown",
      "metadata": {
        "id": "MIHb07fi8XYz",
        "colab_type": "text"
      },
      "source": [
        "# ***Predict Labels***"
      ]
    },
    {
      "cell_type": "code",
      "metadata": {
        "id": "JXJ-oS1M8c7y",
        "colab_type": "code",
        "colab": {}
      },
      "source": [
        "predicted_classes = fashion_model.predict(test_X)"
      ],
      "execution_count": 24,
      "outputs": []
    },
    {
      "cell_type": "code",
      "metadata": {
        "id": "QGKb3oWnIpoU",
        "colab_type": "code",
        "colab": {
          "base_uri": "https://localhost:8080/",
          "height": 51
        },
        "outputId": "0f30c7c8-8c24-49f3-f821-6e8d07ad907b"
      },
      "source": [
        "print(predicted_classes[0])"
      ],
      "execution_count": 25,
      "outputs": [
        {
          "output_type": "stream",
          "text": [
            "[1.3616358e-10 1.1615225e-11 1.7311125e-11 4.9187241e-11 1.1301758e-10\n",
            " 4.4741378e-06 9.6012323e-11 9.5724616e-05 1.0927449e-11 9.9989974e-01]\n"
          ],
          "name": "stdout"
        }
      ]
    },
    {
      "cell_type": "markdown",
      "metadata": {
        "id": "1yVN4qJh8ibs",
        "colab_type": "text"
      },
      "source": [
        "Since the predictions you get are floating point values, it will not be feasible to compare the predicted labels with true test labels. So, you will round off the output which will convert the float values into an integer. Further, you will use **np.argmax()** to select the index number which has a higher value in a row. For example, let's assume a prediction for one test image to be 0 1 0 0 0 0 0 0 0 0, the output for this should be a class label 1."
      ]
    },
    {
      "cell_type": "code",
      "metadata": {
        "id": "lL2RGaF0DPnV",
        "colab_type": "code",
        "colab": {}
      },
      "source": [
        "predicted_classes = np.argmax(np.round(predicted_classes),axis=1)\n"
      ],
      "execution_count": 26,
      "outputs": []
    },
    {
      "cell_type": "code",
      "metadata": {
        "id": "TIMDqSOpDTkQ",
        "colab_type": "code",
        "colab": {
          "base_uri": "https://localhost:8080/",
          "height": 34
        },
        "outputId": "c88a695f-4fee-46f3-ccb4-34b94f26bdf0"
      },
      "source": [
        "predicted_classes.shape, test_Y.shape\n"
      ],
      "execution_count": 27,
      "outputs": [
        {
          "output_type": "execute_result",
          "data": {
            "text/plain": [
              "((10000,), (10000,))"
            ]
          },
          "metadata": {
            "tags": []
          },
          "execution_count": 27
        }
      ]
    },
    {
      "cell_type": "code",
      "metadata": {
        "id": "x74eRxSxDcO5",
        "colab_type": "code",
        "colab": {
          "base_uri": "https://localhost:8080/",
          "height": 314
        },
        "outputId": "d91cb9ad-ccdf-4445-bdef-6329a6b4bbc7"
      },
      "source": [
        "correct = np.where(predicted_classes==test_Y)[0]\n",
        "print (\"Found %d correct labels\" % len(correct))\n",
        "for i, correct in enumerate(correct[:9]):\n",
        "  plt.subplot(3,3,i+1)\n",
        "  plt.imshow(test_X[correct].reshape(28,28), cmap='gray', interpolation='none')\n",
        "  plt.title(\"Predicted {}, Class {}\".format(predicted_classes[correct], test_Y[correct]))\n",
        "  plt.tight_layout()"
      ],
      "execution_count": 29,
      "outputs": [
        {
          "output_type": "stream",
          "text": [
            "Found 9180 correct labels\n"
          ],
          "name": "stdout"
        },
        {
          "output_type": "display_data",
          "data": {
            "image/png": "[encoded data removed]",
            "text/plain": [
              "<Figure size 432x288 with 9 Axes>"
            ]
          },
          "metadata": {
            "tags": [],
            "needs_background": "light"
          }
        }
      ]
    },
    {
      "cell_type": "code",
      "metadata": {
        "id": "m0jQYm5EDx6E",
        "colab_type": "code",
        "colab": {
          "base_uri": "https://localhost:8080/",
          "height": 314
        },
        "outputId": "ebef8f70-dbee-4c75-ee25-4acbc308a2f1"
      },
      "source": [
        "incorrect = np.where(predicted_classes!=test_Y)[0]\n",
        "print (\"Found %d incorrect labels\" % len(incorrect))\n",
        "for i, incorrect in enumerate(incorrect[:9]):\n",
        "  plt.subplot(3,3,i+1)\n",
        "  plt.imshow(test_X[incorrect].reshape(28,28), cmap='gray', interpolation='none')\n",
        "  plt.title(\"Predicted {}, Class {}\".format(predicted_classes[incorrect], test_Y[incorrect]))\n",
        "  plt.tight_layout()"
      ],
      "execution_count": 30,
      "outputs": [
        {
          "output_type": "stream",
          "text": [
            "Found 820 incorrect labels\n"
          ],
          "name": "stdout"
        },
        {
          "output_type": "display_data",
          "data": {
            "image/png": "[encoded data removed]",
            "text/plain": [
              "<Figure size 432x288 with 9 Axes>"
            ]
          },
          "metadata": {
            "tags": [],
            "needs_background": "light"
          }
        }
      ]
    },
    {
      "cell_type": "markdown",
      "metadata": {
        "id": "WpKr65Z_EHk_",
        "colab_type": "text"
      },
      "source": [
        "By looking at a few images, you cannot be sure as to why your model is not able to classify the above images correctly, but it seems like a variety of the similar patterns present on multiple classes affect the performance of the classifier although CNN is a robust architecture. For example, images 5 and 6 both belong to different classes but look kind of similar maybe a jacket or perhaps a long sleeve shirt."
      ]
    },
    {
      "cell_type": "markdown",
      "metadata": {
        "id": "omvueAW-EOB5",
        "colab_type": "text"
      },
      "source": [
        "# ***Classification Report***"
      ]
    },
    {
      "cell_type": "markdown",
      "metadata": {
        "id": "bkO5toDXERYs",
        "colab_type": "text"
      },
      "source": [
        "**Classification report** will help us in identifying the misclassified classes in more detail. You will be able to observe for which class the model performed bad out of the given ten classes."
      ]
    },
    {
      "cell_type": "code",
      "metadata": {
        "id": "5RX7URAgEZg2",
        "colab_type": "code",
        "colab": {
          "base_uri": "https://localhost:8080/",
          "height": 306
        },
        "outputId": "a05696ab-3d1a-4cd7-d26c-90215953e0ac"
      },
      "source": [
        "from sklearn.metrics import classification_report\n",
        "target_names = [\"Class {}\".format(i) for i in range(num_classes)]\n",
        "print(classification_report(test_Y, predicted_classes, target_names=target_names))\n"
      ],
      "execution_count": 31,
      "outputs": [
        {
          "output_type": "stream",
          "text": [
            "              precision    recall  f1-score   support\n",
            "\n",
            "     Class 0       0.76      0.93      0.84      1000\n",
            "     Class 1       0.99      0.98      0.99      1000\n",
            "     Class 2       0.89      0.88      0.89      1000\n",
            "     Class 3       0.93      0.91      0.92      1000\n",
            "     Class 4       0.86      0.89      0.88      1000\n",
            "     Class 5       0.99      0.98      0.99      1000\n",
            "     Class 6       0.85      0.69      0.76      1000\n",
            "     Class 7       0.94      0.99      0.96      1000\n",
            "     Class 8       0.99      0.98      0.98      1000\n",
            "     Class 9       0.99      0.95      0.97      1000\n",
            "\n",
            "    accuracy                           0.92     10000\n",
            "   macro avg       0.92      0.92      0.92     10000\n",
            "weighted avg       0.92      0.92      0.92     10000\n",
            "\n"
          ],
          "name": "stdout"
        }
      ]
    }
  ]
}